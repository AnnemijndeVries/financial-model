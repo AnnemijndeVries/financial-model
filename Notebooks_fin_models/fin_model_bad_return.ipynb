{
 "cells": [
  {
   "cell_type": "code",
   "execution_count": 15,
   "metadata": {},
   "outputs": [
    {
     "data": {
      "text/html": [
       "<div>\n",
       "<style scoped>\n",
       "    .dataframe tbody tr th:only-of-type {\n",
       "        vertical-align: middle;\n",
       "    }\n",
       "\n",
       "    .dataframe tbody tr th {\n",
       "        vertical-align: top;\n",
       "    }\n",
       "\n",
       "    .dataframe thead th {\n",
       "        text-align: right;\n",
       "    }\n",
       "</style>\n",
       "<table border=\"1\" class=\"dataframe\">\n",
       "  <thead>\n",
       "    <tr style=\"text-align: right;\">\n",
       "      <th></th>\n",
       "      <th>Adj Close</th>\n",
       "      <th>Close</th>\n",
       "      <th>High</th>\n",
       "      <th>Low</th>\n",
       "      <th>Open</th>\n",
       "      <th>Volume</th>\n",
       "      <th>Change</th>\n",
       "      <th>Target</th>\n",
       "      <th>MA_5</th>\n",
       "      <th>MA_10</th>\n",
       "      <th>...</th>\n",
       "      <th>10Yr_Treasury_Rate</th>\n",
       "      <th>Unemployment Rate</th>\n",
       "      <th>CPI (Inflation)</th>\n",
       "      <th>GDP Growth</th>\n",
       "      <th>10-Year Treasury Rate</th>\n",
       "      <th>Effective Federal Funds Rate</th>\n",
       "      <th>Personal Consumption Expenditures</th>\n",
       "      <th>Industrial Production Index</th>\n",
       "      <th>Money Stock (M2)</th>\n",
       "      <th>Linear_model</th>\n",
       "    </tr>\n",
       "    <tr>\n",
       "      <th>Date</th>\n",
       "      <th></th>\n",
       "      <th></th>\n",
       "      <th></th>\n",
       "      <th></th>\n",
       "      <th></th>\n",
       "      <th></th>\n",
       "      <th></th>\n",
       "      <th></th>\n",
       "      <th></th>\n",
       "      <th></th>\n",
       "      <th></th>\n",
       "      <th></th>\n",
       "      <th></th>\n",
       "      <th></th>\n",
       "      <th></th>\n",
       "      <th></th>\n",
       "      <th></th>\n",
       "      <th></th>\n",
       "      <th></th>\n",
       "      <th></th>\n",
       "      <th></th>\n",
       "    </tr>\n",
       "  </thead>\n",
       "  <tbody>\n",
       "    <tr>\n",
       "      <th>2011-02-15</th>\n",
       "      <td>103.293655</td>\n",
       "      <td>133.009995</td>\n",
       "      <td>133.220001</td>\n",
       "      <td>132.320007</td>\n",
       "      <td>133.020004</td>\n",
       "      <td>119575400</td>\n",
       "      <td>-0.003148</td>\n",
       "      <td>0</td>\n",
       "      <td>132.828000</td>\n",
       "      <td>132.110001</td>\n",
       "      <td>...</td>\n",
       "      <td>3.616</td>\n",
       "      <td>NaN</td>\n",
       "      <td>NaN</td>\n",
       "      <td>NaN</td>\n",
       "      <td>3.61</td>\n",
       "      <td>NaN</td>\n",
       "      <td>NaN</td>\n",
       "      <td>NaN</td>\n",
       "      <td>NaN</td>\n",
       "      <td>83.329280</td>\n",
       "    </tr>\n",
       "    <tr>\n",
       "      <th>2011-02-16</th>\n",
       "      <td>103.945969</td>\n",
       "      <td>133.850006</td>\n",
       "      <td>134.009995</td>\n",
       "      <td>133.190002</td>\n",
       "      <td>133.460007</td>\n",
       "      <td>130183500</td>\n",
       "      <td>0.006315</td>\n",
       "      <td>1</td>\n",
       "      <td>133.144000</td>\n",
       "      <td>132.446001</td>\n",
       "      <td>...</td>\n",
       "      <td>3.621</td>\n",
       "      <td>NaN</td>\n",
       "      <td>NaN</td>\n",
       "      <td>NaN</td>\n",
       "      <td>3.62</td>\n",
       "      <td>NaN</td>\n",
       "      <td>NaN</td>\n",
       "      <td>NaN</td>\n",
       "      <td>NaN</td>\n",
       "      <td>83.444552</td>\n",
       "    </tr>\n",
       "    <tr>\n",
       "      <th>2011-02-17</th>\n",
       "      <td>104.256599</td>\n",
       "      <td>134.250000</td>\n",
       "      <td>134.429993</td>\n",
       "      <td>133.339996</td>\n",
       "      <td>133.460007</td>\n",
       "      <td>109810500</td>\n",
       "      <td>0.002988</td>\n",
       "      <td>1</td>\n",
       "      <td>133.529999</td>\n",
       "      <td>132.793001</td>\n",
       "      <td>...</td>\n",
       "      <td>3.574</td>\n",
       "      <td>NaN</td>\n",
       "      <td>NaN</td>\n",
       "      <td>NaN</td>\n",
       "      <td>3.58</td>\n",
       "      <td>NaN</td>\n",
       "      <td>NaN</td>\n",
       "      <td>NaN</td>\n",
       "      <td>NaN</td>\n",
       "      <td>83.559823</td>\n",
       "    </tr>\n",
       "    <tr>\n",
       "      <th>2011-02-18</th>\n",
       "      <td>104.474052</td>\n",
       "      <td>134.529999</td>\n",
       "      <td>134.690002</td>\n",
       "      <td>134.059998</td>\n",
       "      <td>134.369995</td>\n",
       "      <td>130002400</td>\n",
       "      <td>0.002086</td>\n",
       "      <td>1</td>\n",
       "      <td>133.813998</td>\n",
       "      <td>133.131001</td>\n",
       "      <td>...</td>\n",
       "      <td>3.589</td>\n",
       "      <td>NaN</td>\n",
       "      <td>NaN</td>\n",
       "      <td>NaN</td>\n",
       "      <td>3.59</td>\n",
       "      <td>NaN</td>\n",
       "      <td>NaN</td>\n",
       "      <td>NaN</td>\n",
       "      <td>NaN</td>\n",
       "      <td>83.675095</td>\n",
       "    </tr>\n",
       "    <tr>\n",
       "      <th>2011-02-22</th>\n",
       "      <td>102.377243</td>\n",
       "      <td>131.830002</td>\n",
       "      <td>134.559998</td>\n",
       "      <td>131.470001</td>\n",
       "      <td>133.119995</td>\n",
       "      <td>233116400</td>\n",
       "      <td>-0.020070</td>\n",
       "      <td>0</td>\n",
       "      <td>133.494000</td>\n",
       "      <td>133.117001</td>\n",
       "      <td>...</td>\n",
       "      <td>3.461</td>\n",
       "      <td>NaN</td>\n",
       "      <td>NaN</td>\n",
       "      <td>NaN</td>\n",
       "      <td>3.46</td>\n",
       "      <td>NaN</td>\n",
       "      <td>NaN</td>\n",
       "      <td>NaN</td>\n",
       "      <td>NaN</td>\n",
       "      <td>83.790366</td>\n",
       "    </tr>\n",
       "    <tr>\n",
       "      <th>...</th>\n",
       "      <td>...</td>\n",
       "      <td>...</td>\n",
       "      <td>...</td>\n",
       "      <td>...</td>\n",
       "      <td>...</td>\n",
       "      <td>...</td>\n",
       "      <td>...</td>\n",
       "      <td>...</td>\n",
       "      <td>...</td>\n",
       "      <td>...</td>\n",
       "      <td>...</td>\n",
       "      <td>...</td>\n",
       "      <td>...</td>\n",
       "      <td>...</td>\n",
       "      <td>...</td>\n",
       "      <td>...</td>\n",
       "      <td>...</td>\n",
       "      <td>...</td>\n",
       "      <td>...</td>\n",
       "      <td>...</td>\n",
       "      <td>...</td>\n",
       "    </tr>\n",
       "    <tr>\n",
       "      <th>2024-11-21</th>\n",
       "      <td>593.669983</td>\n",
       "      <td>593.669983</td>\n",
       "      <td>595.119995</td>\n",
       "      <td>587.450012</td>\n",
       "      <td>593.400024</td>\n",
       "      <td>46750300</td>\n",
       "      <td>0.005368</td>\n",
       "      <td>1</td>\n",
       "      <td>589.673999</td>\n",
       "      <td>593.276001</td>\n",
       "      <td>...</td>\n",
       "      <td>4.432</td>\n",
       "      <td>4.1</td>\n",
       "      <td>315.454</td>\n",
       "      <td>29354.321</td>\n",
       "      <td>4.43</td>\n",
       "      <td>4.83</td>\n",
       "      <td>20099.5</td>\n",
       "      <td>102.2805</td>\n",
       "      <td>21311.2</td>\n",
       "      <td>482.745070</td>\n",
       "    </tr>\n",
       "    <tr>\n",
       "      <th>2024-11-22</th>\n",
       "      <td>595.510010</td>\n",
       "      <td>595.510010</td>\n",
       "      <td>596.150024</td>\n",
       "      <td>593.150024</td>\n",
       "      <td>593.659973</td>\n",
       "      <td>38226400</td>\n",
       "      <td>0.003099</td>\n",
       "      <td>1</td>\n",
       "      <td>591.626001</td>\n",
       "      <td>593.008002</td>\n",
       "      <td>...</td>\n",
       "      <td>4.410</td>\n",
       "      <td>4.1</td>\n",
       "      <td>315.454</td>\n",
       "      <td>29354.321</td>\n",
       "      <td>4.41</td>\n",
       "      <td>4.83</td>\n",
       "      <td>20099.5</td>\n",
       "      <td>102.2805</td>\n",
       "      <td>21311.2</td>\n",
       "      <td>482.860342</td>\n",
       "    </tr>\n",
       "    <tr>\n",
       "      <th>2024-11-25</th>\n",
       "      <td>597.530029</td>\n",
       "      <td>597.530029</td>\n",
       "      <td>600.859985</td>\n",
       "      <td>595.200012</td>\n",
       "      <td>599.520020</td>\n",
       "      <td>42441400</td>\n",
       "      <td>0.003392</td>\n",
       "      <td>1</td>\n",
       "      <td>593.502002</td>\n",
       "      <td>592.885004</td>\n",
       "      <td>...</td>\n",
       "      <td>4.265</td>\n",
       "      <td>4.1</td>\n",
       "      <td>315.454</td>\n",
       "      <td>29354.321</td>\n",
       "      <td>4.27</td>\n",
       "      <td>4.83</td>\n",
       "      <td>20099.5</td>\n",
       "      <td>102.2805</td>\n",
       "      <td>21311.2</td>\n",
       "      <td>482.975613</td>\n",
       "    </tr>\n",
       "    <tr>\n",
       "      <th>2024-11-26</th>\n",
       "      <td>600.650024</td>\n",
       "      <td>600.650024</td>\n",
       "      <td>601.330017</td>\n",
       "      <td>598.070007</td>\n",
       "      <td>598.799988</td>\n",
       "      <td>45621300</td>\n",
       "      <td>0.005221</td>\n",
       "      <td>1</td>\n",
       "      <td>595.572009</td>\n",
       "      <td>593.260004</td>\n",
       "      <td>...</td>\n",
       "      <td>4.302</td>\n",
       "      <td>4.1</td>\n",
       "      <td>315.454</td>\n",
       "      <td>29354.321</td>\n",
       "      <td>4.30</td>\n",
       "      <td>4.83</td>\n",
       "      <td>20099.5</td>\n",
       "      <td>102.2805</td>\n",
       "      <td>21311.2</td>\n",
       "      <td>483.090885</td>\n",
       "    </tr>\n",
       "    <tr>\n",
       "      <th>2024-11-27</th>\n",
       "      <td>598.830017</td>\n",
       "      <td>598.830017</td>\n",
       "      <td>600.849976</td>\n",
       "      <td>597.280029</td>\n",
       "      <td>600.460022</td>\n",
       "      <td>34000200</td>\n",
       "      <td>-0.003030</td>\n",
       "      <td>0</td>\n",
       "      <td>597.238013</td>\n",
       "      <td>593.424005</td>\n",
       "      <td>...</td>\n",
       "      <td>4.242</td>\n",
       "      <td>4.1</td>\n",
       "      <td>315.454</td>\n",
       "      <td>29354.321</td>\n",
       "      <td>4.30</td>\n",
       "      <td>4.83</td>\n",
       "      <td>20099.5</td>\n",
       "      <td>102.2805</td>\n",
       "      <td>21311.2</td>\n",
       "      <td>483.206156</td>\n",
       "    </tr>\n",
       "  </tbody>\n",
       "</table>\n",
       "<p>3470 rows × 129 columns</p>\n",
       "</div>"
      ],
      "text/plain": [
       "             Adj Close       Close        High         Low        Open  \\\n",
       "Date                                                                     \n",
       "2011-02-15  103.293655  133.009995  133.220001  132.320007  133.020004   \n",
       "2011-02-16  103.945969  133.850006  134.009995  133.190002  133.460007   \n",
       "2011-02-17  104.256599  134.250000  134.429993  133.339996  133.460007   \n",
       "2011-02-18  104.474052  134.529999  134.690002  134.059998  134.369995   \n",
       "2011-02-22  102.377243  131.830002  134.559998  131.470001  133.119995   \n",
       "...                ...         ...         ...         ...         ...   \n",
       "2024-11-21  593.669983  593.669983  595.119995  587.450012  593.400024   \n",
       "2024-11-22  595.510010  595.510010  596.150024  593.150024  593.659973   \n",
       "2024-11-25  597.530029  597.530029  600.859985  595.200012  599.520020   \n",
       "2024-11-26  600.650024  600.650024  601.330017  598.070007  598.799988   \n",
       "2024-11-27  598.830017  598.830017  600.849976  597.280029  600.460022   \n",
       "\n",
       "               Volume    Change  Target        MA_5       MA_10  ...  \\\n",
       "Date                                                             ...   \n",
       "2011-02-15  119575400 -0.003148       0  132.828000  132.110001  ...   \n",
       "2011-02-16  130183500  0.006315       1  133.144000  132.446001  ...   \n",
       "2011-02-17  109810500  0.002988       1  133.529999  132.793001  ...   \n",
       "2011-02-18  130002400  0.002086       1  133.813998  133.131001  ...   \n",
       "2011-02-22  233116400 -0.020070       0  133.494000  133.117001  ...   \n",
       "...               ...       ...     ...         ...         ...  ...   \n",
       "2024-11-21   46750300  0.005368       1  589.673999  593.276001  ...   \n",
       "2024-11-22   38226400  0.003099       1  591.626001  593.008002  ...   \n",
       "2024-11-25   42441400  0.003392       1  593.502002  592.885004  ...   \n",
       "2024-11-26   45621300  0.005221       1  595.572009  593.260004  ...   \n",
       "2024-11-27   34000200 -0.003030       0  597.238013  593.424005  ...   \n",
       "\n",
       "            10Yr_Treasury_Rate  Unemployment Rate  CPI (Inflation)  \\\n",
       "Date                                                                 \n",
       "2011-02-15               3.616                NaN              NaN   \n",
       "2011-02-16               3.621                NaN              NaN   \n",
       "2011-02-17               3.574                NaN              NaN   \n",
       "2011-02-18               3.589                NaN              NaN   \n",
       "2011-02-22               3.461                NaN              NaN   \n",
       "...                        ...                ...              ...   \n",
       "2024-11-21               4.432                4.1          315.454   \n",
       "2024-11-22               4.410                4.1          315.454   \n",
       "2024-11-25               4.265                4.1          315.454   \n",
       "2024-11-26               4.302                4.1          315.454   \n",
       "2024-11-27               4.242                4.1          315.454   \n",
       "\n",
       "            GDP Growth  10-Year Treasury Rate  Effective Federal Funds Rate  \\\n",
       "Date                                                                          \n",
       "2011-02-15         NaN                   3.61                           NaN   \n",
       "2011-02-16         NaN                   3.62                           NaN   \n",
       "2011-02-17         NaN                   3.58                           NaN   \n",
       "2011-02-18         NaN                   3.59                           NaN   \n",
       "2011-02-22         NaN                   3.46                           NaN   \n",
       "...                ...                    ...                           ...   \n",
       "2024-11-21   29354.321                   4.43                          4.83   \n",
       "2024-11-22   29354.321                   4.41                          4.83   \n",
       "2024-11-25   29354.321                   4.27                          4.83   \n",
       "2024-11-26   29354.321                   4.30                          4.83   \n",
       "2024-11-27   29354.321                   4.30                          4.83   \n",
       "\n",
       "            Personal Consumption Expenditures  Industrial Production Index  \\\n",
       "Date                                                                         \n",
       "2011-02-15                                NaN                          NaN   \n",
       "2011-02-16                                NaN                          NaN   \n",
       "2011-02-17                                NaN                          NaN   \n",
       "2011-02-18                                NaN                          NaN   \n",
       "2011-02-22                                NaN                          NaN   \n",
       "...                                       ...                          ...   \n",
       "2024-11-21                            20099.5                     102.2805   \n",
       "2024-11-22                            20099.5                     102.2805   \n",
       "2024-11-25                            20099.5                     102.2805   \n",
       "2024-11-26                            20099.5                     102.2805   \n",
       "2024-11-27                            20099.5                     102.2805   \n",
       "\n",
       "            Money Stock (M2)  Linear_model  \n",
       "Date                                        \n",
       "2011-02-15               NaN     83.329280  \n",
       "2011-02-16               NaN     83.444552  \n",
       "2011-02-17               NaN     83.559823  \n",
       "2011-02-18               NaN     83.675095  \n",
       "2011-02-22               NaN     83.790366  \n",
       "...                      ...           ...  \n",
       "2024-11-21           21311.2    482.745070  \n",
       "2024-11-22           21311.2    482.860342  \n",
       "2024-11-25           21311.2    482.975613  \n",
       "2024-11-26           21311.2    483.090885  \n",
       "2024-11-27           21311.2    483.206156  \n",
       "\n",
       "[3470 rows x 129 columns]"
      ]
     },
     "execution_count": 15,
     "metadata": {},
     "output_type": "execute_result"
    }
   ],
   "source": [
    "import pandas as pd\n",
    "\n",
    "dfSPY = pd.read_csv(\"..\\end_set.csv\", index_col=0)\n",
    "\n",
    "dfSPY"
   ]
  },
  {
   "cell_type": "code",
   "execution_count": 17,
   "metadata": {},
   "outputs": [
    {
     "data": {
      "text/html": [
       "<div>\n",
       "<style scoped>\n",
       "    .dataframe tbody tr th:only-of-type {\n",
       "        vertical-align: middle;\n",
       "    }\n",
       "\n",
       "    .dataframe tbody tr th {\n",
       "        vertical-align: top;\n",
       "    }\n",
       "\n",
       "    .dataframe thead th {\n",
       "        text-align: right;\n",
       "    }\n",
       "</style>\n",
       "<table border=\"1\" class=\"dataframe\">\n",
       "  <thead>\n",
       "    <tr style=\"text-align: right;\">\n",
       "      <th></th>\n",
       "      <th>Date</th>\n",
       "      <th>Adj Close</th>\n",
       "      <th>Close</th>\n",
       "      <th>High</th>\n",
       "      <th>Low</th>\n",
       "      <th>Open</th>\n",
       "      <th>Volume</th>\n",
       "      <th>Change</th>\n",
       "      <th>Target</th>\n",
       "      <th>MA_5</th>\n",
       "      <th>...</th>\n",
       "      <th>10Yr_Treasury_Rate</th>\n",
       "      <th>Unemployment Rate</th>\n",
       "      <th>CPI (Inflation)</th>\n",
       "      <th>GDP Growth</th>\n",
       "      <th>10-Year Treasury Rate</th>\n",
       "      <th>Effective Federal Funds Rate</th>\n",
       "      <th>Personal Consumption Expenditures</th>\n",
       "      <th>Industrial Production Index</th>\n",
       "      <th>Money Stock (M2)</th>\n",
       "      <th>Linear_model</th>\n",
       "    </tr>\n",
       "  </thead>\n",
       "  <tbody>\n",
       "    <tr>\n",
       "      <th>0</th>\n",
       "      <td>2011-02-15</td>\n",
       "      <td>103.293655</td>\n",
       "      <td>133.009995</td>\n",
       "      <td>133.220001</td>\n",
       "      <td>132.320007</td>\n",
       "      <td>133.020004</td>\n",
       "      <td>119575400</td>\n",
       "      <td>-0.003148</td>\n",
       "      <td>0</td>\n",
       "      <td>132.828000</td>\n",
       "      <td>...</td>\n",
       "      <td>3.616</td>\n",
       "      <td>NaN</td>\n",
       "      <td>NaN</td>\n",
       "      <td>NaN</td>\n",
       "      <td>3.61</td>\n",
       "      <td>NaN</td>\n",
       "      <td>NaN</td>\n",
       "      <td>NaN</td>\n",
       "      <td>NaN</td>\n",
       "      <td>83.329280</td>\n",
       "    </tr>\n",
       "    <tr>\n",
       "      <th>1</th>\n",
       "      <td>2011-02-16</td>\n",
       "      <td>103.945969</td>\n",
       "      <td>133.850006</td>\n",
       "      <td>134.009995</td>\n",
       "      <td>133.190002</td>\n",
       "      <td>133.460007</td>\n",
       "      <td>130183500</td>\n",
       "      <td>0.006315</td>\n",
       "      <td>1</td>\n",
       "      <td>133.144000</td>\n",
       "      <td>...</td>\n",
       "      <td>3.621</td>\n",
       "      <td>NaN</td>\n",
       "      <td>NaN</td>\n",
       "      <td>NaN</td>\n",
       "      <td>3.62</td>\n",
       "      <td>NaN</td>\n",
       "      <td>NaN</td>\n",
       "      <td>NaN</td>\n",
       "      <td>NaN</td>\n",
       "      <td>83.444552</td>\n",
       "    </tr>\n",
       "    <tr>\n",
       "      <th>2</th>\n",
       "      <td>2011-02-17</td>\n",
       "      <td>104.256599</td>\n",
       "      <td>134.250000</td>\n",
       "      <td>134.429993</td>\n",
       "      <td>133.339996</td>\n",
       "      <td>133.460007</td>\n",
       "      <td>109810500</td>\n",
       "      <td>0.002988</td>\n",
       "      <td>1</td>\n",
       "      <td>133.529999</td>\n",
       "      <td>...</td>\n",
       "      <td>3.574</td>\n",
       "      <td>NaN</td>\n",
       "      <td>NaN</td>\n",
       "      <td>NaN</td>\n",
       "      <td>3.58</td>\n",
       "      <td>NaN</td>\n",
       "      <td>NaN</td>\n",
       "      <td>NaN</td>\n",
       "      <td>NaN</td>\n",
       "      <td>83.559823</td>\n",
       "    </tr>\n",
       "    <tr>\n",
       "      <th>3</th>\n",
       "      <td>2011-02-18</td>\n",
       "      <td>104.474052</td>\n",
       "      <td>134.529999</td>\n",
       "      <td>134.690002</td>\n",
       "      <td>134.059998</td>\n",
       "      <td>134.369995</td>\n",
       "      <td>130002400</td>\n",
       "      <td>0.002086</td>\n",
       "      <td>1</td>\n",
       "      <td>133.813998</td>\n",
       "      <td>...</td>\n",
       "      <td>3.589</td>\n",
       "      <td>NaN</td>\n",
       "      <td>NaN</td>\n",
       "      <td>NaN</td>\n",
       "      <td>3.59</td>\n",
       "      <td>NaN</td>\n",
       "      <td>NaN</td>\n",
       "      <td>NaN</td>\n",
       "      <td>NaN</td>\n",
       "      <td>83.675095</td>\n",
       "    </tr>\n",
       "    <tr>\n",
       "      <th>4</th>\n",
       "      <td>2011-02-22</td>\n",
       "      <td>102.377243</td>\n",
       "      <td>131.830002</td>\n",
       "      <td>134.559998</td>\n",
       "      <td>131.470001</td>\n",
       "      <td>133.119995</td>\n",
       "      <td>233116400</td>\n",
       "      <td>-0.020070</td>\n",
       "      <td>0</td>\n",
       "      <td>133.494000</td>\n",
       "      <td>...</td>\n",
       "      <td>3.461</td>\n",
       "      <td>NaN</td>\n",
       "      <td>NaN</td>\n",
       "      <td>NaN</td>\n",
       "      <td>3.46</td>\n",
       "      <td>NaN</td>\n",
       "      <td>NaN</td>\n",
       "      <td>NaN</td>\n",
       "      <td>NaN</td>\n",
       "      <td>83.790366</td>\n",
       "    </tr>\n",
       "    <tr>\n",
       "      <th>...</th>\n",
       "      <td>...</td>\n",
       "      <td>...</td>\n",
       "      <td>...</td>\n",
       "      <td>...</td>\n",
       "      <td>...</td>\n",
       "      <td>...</td>\n",
       "      <td>...</td>\n",
       "      <td>...</td>\n",
       "      <td>...</td>\n",
       "      <td>...</td>\n",
       "      <td>...</td>\n",
       "      <td>...</td>\n",
       "      <td>...</td>\n",
       "      <td>...</td>\n",
       "      <td>...</td>\n",
       "      <td>...</td>\n",
       "      <td>...</td>\n",
       "      <td>...</td>\n",
       "      <td>...</td>\n",
       "      <td>...</td>\n",
       "      <td>...</td>\n",
       "    </tr>\n",
       "    <tr>\n",
       "      <th>3465</th>\n",
       "      <td>2024-11-21</td>\n",
       "      <td>593.669983</td>\n",
       "      <td>593.669983</td>\n",
       "      <td>595.119995</td>\n",
       "      <td>587.450012</td>\n",
       "      <td>593.400024</td>\n",
       "      <td>46750300</td>\n",
       "      <td>0.005368</td>\n",
       "      <td>1</td>\n",
       "      <td>589.673999</td>\n",
       "      <td>...</td>\n",
       "      <td>4.432</td>\n",
       "      <td>4.1</td>\n",
       "      <td>315.454</td>\n",
       "      <td>29354.321</td>\n",
       "      <td>4.43</td>\n",
       "      <td>4.83</td>\n",
       "      <td>20099.5</td>\n",
       "      <td>102.2805</td>\n",
       "      <td>21311.2</td>\n",
       "      <td>482.745070</td>\n",
       "    </tr>\n",
       "    <tr>\n",
       "      <th>3466</th>\n",
       "      <td>2024-11-22</td>\n",
       "      <td>595.510010</td>\n",
       "      <td>595.510010</td>\n",
       "      <td>596.150024</td>\n",
       "      <td>593.150024</td>\n",
       "      <td>593.659973</td>\n",
       "      <td>38226400</td>\n",
       "      <td>0.003099</td>\n",
       "      <td>1</td>\n",
       "      <td>591.626001</td>\n",
       "      <td>...</td>\n",
       "      <td>4.410</td>\n",
       "      <td>4.1</td>\n",
       "      <td>315.454</td>\n",
       "      <td>29354.321</td>\n",
       "      <td>4.41</td>\n",
       "      <td>4.83</td>\n",
       "      <td>20099.5</td>\n",
       "      <td>102.2805</td>\n",
       "      <td>21311.2</td>\n",
       "      <td>482.860342</td>\n",
       "    </tr>\n",
       "    <tr>\n",
       "      <th>3467</th>\n",
       "      <td>2024-11-25</td>\n",
       "      <td>597.530029</td>\n",
       "      <td>597.530029</td>\n",
       "      <td>600.859985</td>\n",
       "      <td>595.200012</td>\n",
       "      <td>599.520020</td>\n",
       "      <td>42441400</td>\n",
       "      <td>0.003392</td>\n",
       "      <td>1</td>\n",
       "      <td>593.502002</td>\n",
       "      <td>...</td>\n",
       "      <td>4.265</td>\n",
       "      <td>4.1</td>\n",
       "      <td>315.454</td>\n",
       "      <td>29354.321</td>\n",
       "      <td>4.27</td>\n",
       "      <td>4.83</td>\n",
       "      <td>20099.5</td>\n",
       "      <td>102.2805</td>\n",
       "      <td>21311.2</td>\n",
       "      <td>482.975613</td>\n",
       "    </tr>\n",
       "    <tr>\n",
       "      <th>3468</th>\n",
       "      <td>2024-11-26</td>\n",
       "      <td>600.650024</td>\n",
       "      <td>600.650024</td>\n",
       "      <td>601.330017</td>\n",
       "      <td>598.070007</td>\n",
       "      <td>598.799988</td>\n",
       "      <td>45621300</td>\n",
       "      <td>0.005221</td>\n",
       "      <td>1</td>\n",
       "      <td>595.572009</td>\n",
       "      <td>...</td>\n",
       "      <td>4.302</td>\n",
       "      <td>4.1</td>\n",
       "      <td>315.454</td>\n",
       "      <td>29354.321</td>\n",
       "      <td>4.30</td>\n",
       "      <td>4.83</td>\n",
       "      <td>20099.5</td>\n",
       "      <td>102.2805</td>\n",
       "      <td>21311.2</td>\n",
       "      <td>483.090885</td>\n",
       "    </tr>\n",
       "    <tr>\n",
       "      <th>3469</th>\n",
       "      <td>2024-11-27</td>\n",
       "      <td>598.830017</td>\n",
       "      <td>598.830017</td>\n",
       "      <td>600.849976</td>\n",
       "      <td>597.280029</td>\n",
       "      <td>600.460022</td>\n",
       "      <td>34000200</td>\n",
       "      <td>-0.003030</td>\n",
       "      <td>0</td>\n",
       "      <td>597.238013</td>\n",
       "      <td>...</td>\n",
       "      <td>4.242</td>\n",
       "      <td>4.1</td>\n",
       "      <td>315.454</td>\n",
       "      <td>29354.321</td>\n",
       "      <td>4.30</td>\n",
       "      <td>4.83</td>\n",
       "      <td>20099.5</td>\n",
       "      <td>102.2805</td>\n",
       "      <td>21311.2</td>\n",
       "      <td>483.206156</td>\n",
       "    </tr>\n",
       "  </tbody>\n",
       "</table>\n",
       "<p>3470 rows × 130 columns</p>\n",
       "</div>"
      ],
      "text/plain": [
       "            Date   Adj Close       Close        High         Low        Open  \\\n",
       "0     2011-02-15  103.293655  133.009995  133.220001  132.320007  133.020004   \n",
       "1     2011-02-16  103.945969  133.850006  134.009995  133.190002  133.460007   \n",
       "2     2011-02-17  104.256599  134.250000  134.429993  133.339996  133.460007   \n",
       "3     2011-02-18  104.474052  134.529999  134.690002  134.059998  134.369995   \n",
       "4     2011-02-22  102.377243  131.830002  134.559998  131.470001  133.119995   \n",
       "...          ...         ...         ...         ...         ...         ...   \n",
       "3465  2024-11-21  593.669983  593.669983  595.119995  587.450012  593.400024   \n",
       "3466  2024-11-22  595.510010  595.510010  596.150024  593.150024  593.659973   \n",
       "3467  2024-11-25  597.530029  597.530029  600.859985  595.200012  599.520020   \n",
       "3468  2024-11-26  600.650024  600.650024  601.330017  598.070007  598.799988   \n",
       "3469  2024-11-27  598.830017  598.830017  600.849976  597.280029  600.460022   \n",
       "\n",
       "         Volume    Change  Target        MA_5  ...  10Yr_Treasury_Rate  \\\n",
       "0     119575400 -0.003148       0  132.828000  ...               3.616   \n",
       "1     130183500  0.006315       1  133.144000  ...               3.621   \n",
       "2     109810500  0.002988       1  133.529999  ...               3.574   \n",
       "3     130002400  0.002086       1  133.813998  ...               3.589   \n",
       "4     233116400 -0.020070       0  133.494000  ...               3.461   \n",
       "...         ...       ...     ...         ...  ...                 ...   \n",
       "3465   46750300  0.005368       1  589.673999  ...               4.432   \n",
       "3466   38226400  0.003099       1  591.626001  ...               4.410   \n",
       "3467   42441400  0.003392       1  593.502002  ...               4.265   \n",
       "3468   45621300  0.005221       1  595.572009  ...               4.302   \n",
       "3469   34000200 -0.003030       0  597.238013  ...               4.242   \n",
       "\n",
       "      Unemployment Rate  CPI (Inflation)  GDP Growth  10-Year Treasury Rate  \\\n",
       "0                   NaN              NaN         NaN                   3.61   \n",
       "1                   NaN              NaN         NaN                   3.62   \n",
       "2                   NaN              NaN         NaN                   3.58   \n",
       "3                   NaN              NaN         NaN                   3.59   \n",
       "4                   NaN              NaN         NaN                   3.46   \n",
       "...                 ...              ...         ...                    ...   \n",
       "3465                4.1          315.454   29354.321                   4.43   \n",
       "3466                4.1          315.454   29354.321                   4.41   \n",
       "3467                4.1          315.454   29354.321                   4.27   \n",
       "3468                4.1          315.454   29354.321                   4.30   \n",
       "3469                4.1          315.454   29354.321                   4.30   \n",
       "\n",
       "      Effective Federal Funds Rate  Personal Consumption Expenditures  \\\n",
       "0                              NaN                                NaN   \n",
       "1                              NaN                                NaN   \n",
       "2                              NaN                                NaN   \n",
       "3                              NaN                                NaN   \n",
       "4                              NaN                                NaN   \n",
       "...                            ...                                ...   \n",
       "3465                          4.83                            20099.5   \n",
       "3466                          4.83                            20099.5   \n",
       "3467                          4.83                            20099.5   \n",
       "3468                          4.83                            20099.5   \n",
       "3469                          4.83                            20099.5   \n",
       "\n",
       "      Industrial Production Index  Money Stock (M2)  Linear_model  \n",
       "0                             NaN               NaN     83.329280  \n",
       "1                             NaN               NaN     83.444552  \n",
       "2                             NaN               NaN     83.559823  \n",
       "3                             NaN               NaN     83.675095  \n",
       "4                             NaN               NaN     83.790366  \n",
       "...                           ...               ...           ...  \n",
       "3465                     102.2805           21311.2    482.745070  \n",
       "3466                     102.2805           21311.2    482.860342  \n",
       "3467                     102.2805           21311.2    482.975613  \n",
       "3468                     102.2805           21311.2    483.090885  \n",
       "3469                     102.2805           21311.2    483.206156  \n",
       "\n",
       "[3470 rows x 130 columns]"
      ]
     },
     "execution_count": 17,
     "metadata": {},
     "output_type": "execute_result"
    }
   ],
   "source": [
    "dfSPY.reset_index(inplace=True)\n",
    "dfSPY"
   ]
  },
  {
   "cell_type": "code",
   "execution_count": 18,
   "metadata": {},
   "outputs": [
    {
     "data": {
      "text/html": [
       "<div>\n",
       "<style scoped>\n",
       "    .dataframe tbody tr th:only-of-type {\n",
       "        vertical-align: middle;\n",
       "    }\n",
       "\n",
       "    .dataframe tbody tr th {\n",
       "        vertical-align: top;\n",
       "    }\n",
       "\n",
       "    .dataframe thead th {\n",
       "        text-align: right;\n",
       "    }\n",
       "</style>\n",
       "<table border=\"1\" class=\"dataframe\">\n",
       "  <thead>\n",
       "    <tr style=\"text-align: right;\">\n",
       "      <th></th>\n",
       "      <th>index</th>\n",
       "      <th>Date</th>\n",
       "      <th>Adj Close</th>\n",
       "      <th>Close</th>\n",
       "      <th>High</th>\n",
       "      <th>Low</th>\n",
       "      <th>Open</th>\n",
       "      <th>Volume</th>\n",
       "      <th>Change</th>\n",
       "      <th>Target</th>\n",
       "      <th>...</th>\n",
       "      <th>10Yr_Treasury_Rate</th>\n",
       "      <th>Unemployment Rate</th>\n",
       "      <th>CPI (Inflation)</th>\n",
       "      <th>GDP Growth</th>\n",
       "      <th>10-Year Treasury Rate</th>\n",
       "      <th>Effective Federal Funds Rate</th>\n",
       "      <th>Personal Consumption Expenditures</th>\n",
       "      <th>Industrial Production Index</th>\n",
       "      <th>Money Stock (M2)</th>\n",
       "      <th>Linear_model</th>\n",
       "    </tr>\n",
       "  </thead>\n",
       "  <tbody>\n",
       "    <tr>\n",
       "      <th>0</th>\n",
       "      <td>0</td>\n",
       "      <td>2011-02-15</td>\n",
       "      <td>103.293655</td>\n",
       "      <td>133.009995</td>\n",
       "      <td>133.220001</td>\n",
       "      <td>132.320007</td>\n",
       "      <td>133.020004</td>\n",
       "      <td>119575400</td>\n",
       "      <td>-0.003148</td>\n",
       "      <td>0</td>\n",
       "      <td>...</td>\n",
       "      <td>3.616</td>\n",
       "      <td>NaN</td>\n",
       "      <td>NaN</td>\n",
       "      <td>NaN</td>\n",
       "      <td>3.61</td>\n",
       "      <td>NaN</td>\n",
       "      <td>NaN</td>\n",
       "      <td>NaN</td>\n",
       "      <td>NaN</td>\n",
       "      <td>83.329280</td>\n",
       "    </tr>\n",
       "    <tr>\n",
       "      <th>1</th>\n",
       "      <td>1</td>\n",
       "      <td>2011-02-16</td>\n",
       "      <td>103.945969</td>\n",
       "      <td>133.850006</td>\n",
       "      <td>134.009995</td>\n",
       "      <td>133.190002</td>\n",
       "      <td>133.460007</td>\n",
       "      <td>130183500</td>\n",
       "      <td>0.006315</td>\n",
       "      <td>1</td>\n",
       "      <td>...</td>\n",
       "      <td>3.621</td>\n",
       "      <td>NaN</td>\n",
       "      <td>NaN</td>\n",
       "      <td>NaN</td>\n",
       "      <td>3.62</td>\n",
       "      <td>NaN</td>\n",
       "      <td>NaN</td>\n",
       "      <td>NaN</td>\n",
       "      <td>NaN</td>\n",
       "      <td>83.444552</td>\n",
       "    </tr>\n",
       "    <tr>\n",
       "      <th>2</th>\n",
       "      <td>2</td>\n",
       "      <td>2011-02-17</td>\n",
       "      <td>104.256599</td>\n",
       "      <td>134.250000</td>\n",
       "      <td>134.429993</td>\n",
       "      <td>133.339996</td>\n",
       "      <td>133.460007</td>\n",
       "      <td>109810500</td>\n",
       "      <td>0.002988</td>\n",
       "      <td>1</td>\n",
       "      <td>...</td>\n",
       "      <td>3.574</td>\n",
       "      <td>NaN</td>\n",
       "      <td>NaN</td>\n",
       "      <td>NaN</td>\n",
       "      <td>3.58</td>\n",
       "      <td>NaN</td>\n",
       "      <td>NaN</td>\n",
       "      <td>NaN</td>\n",
       "      <td>NaN</td>\n",
       "      <td>83.559823</td>\n",
       "    </tr>\n",
       "    <tr>\n",
       "      <th>3</th>\n",
       "      <td>3</td>\n",
       "      <td>2011-02-18</td>\n",
       "      <td>104.474052</td>\n",
       "      <td>134.529999</td>\n",
       "      <td>134.690002</td>\n",
       "      <td>134.059998</td>\n",
       "      <td>134.369995</td>\n",
       "      <td>130002400</td>\n",
       "      <td>0.002086</td>\n",
       "      <td>1</td>\n",
       "      <td>...</td>\n",
       "      <td>3.589</td>\n",
       "      <td>NaN</td>\n",
       "      <td>NaN</td>\n",
       "      <td>NaN</td>\n",
       "      <td>3.59</td>\n",
       "      <td>NaN</td>\n",
       "      <td>NaN</td>\n",
       "      <td>NaN</td>\n",
       "      <td>NaN</td>\n",
       "      <td>83.675095</td>\n",
       "    </tr>\n",
       "    <tr>\n",
       "      <th>4</th>\n",
       "      <td>4</td>\n",
       "      <td>2011-02-22</td>\n",
       "      <td>102.377243</td>\n",
       "      <td>131.830002</td>\n",
       "      <td>134.559998</td>\n",
       "      <td>131.470001</td>\n",
       "      <td>133.119995</td>\n",
       "      <td>233116400</td>\n",
       "      <td>-0.020070</td>\n",
       "      <td>0</td>\n",
       "      <td>...</td>\n",
       "      <td>3.461</td>\n",
       "      <td>NaN</td>\n",
       "      <td>NaN</td>\n",
       "      <td>NaN</td>\n",
       "      <td>3.46</td>\n",
       "      <td>NaN</td>\n",
       "      <td>NaN</td>\n",
       "      <td>NaN</td>\n",
       "      <td>NaN</td>\n",
       "      <td>83.790366</td>\n",
       "    </tr>\n",
       "  </tbody>\n",
       "</table>\n",
       "<p>5 rows × 131 columns</p>\n",
       "</div>"
      ],
      "text/plain": [
       "   index        Date   Adj Close       Close        High         Low  \\\n",
       "0      0  2011-02-15  103.293655  133.009995  133.220001  132.320007   \n",
       "1      1  2011-02-16  103.945969  133.850006  134.009995  133.190002   \n",
       "2      2  2011-02-17  104.256599  134.250000  134.429993  133.339996   \n",
       "3      3  2011-02-18  104.474052  134.529999  134.690002  134.059998   \n",
       "4      4  2011-02-22  102.377243  131.830002  134.559998  131.470001   \n",
       "\n",
       "         Open     Volume    Change  Target  ...  10Yr_Treasury_Rate  \\\n",
       "0  133.020004  119575400 -0.003148       0  ...               3.616   \n",
       "1  133.460007  130183500  0.006315       1  ...               3.621   \n",
       "2  133.460007  109810500  0.002988       1  ...               3.574   \n",
       "3  134.369995  130002400  0.002086       1  ...               3.589   \n",
       "4  133.119995  233116400 -0.020070       0  ...               3.461   \n",
       "\n",
       "   Unemployment Rate  CPI (Inflation)  GDP Growth  10-Year Treasury Rate  \\\n",
       "0                NaN              NaN         NaN                   3.61   \n",
       "1                NaN              NaN         NaN                   3.62   \n",
       "2                NaN              NaN         NaN                   3.58   \n",
       "3                NaN              NaN         NaN                   3.59   \n",
       "4                NaN              NaN         NaN                   3.46   \n",
       "\n",
       "   Effective Federal Funds Rate  Personal Consumption Expenditures  \\\n",
       "0                           NaN                                NaN   \n",
       "1                           NaN                                NaN   \n",
       "2                           NaN                                NaN   \n",
       "3                           NaN                                NaN   \n",
       "4                           NaN                                NaN   \n",
       "\n",
       "   Industrial Production Index  Money Stock (M2)  Linear_model  \n",
       "0                          NaN               NaN     83.329280  \n",
       "1                          NaN               NaN     83.444552  \n",
       "2                          NaN               NaN     83.559823  \n",
       "3                          NaN               NaN     83.675095  \n",
       "4                          NaN               NaN     83.790366  \n",
       "\n",
       "[5 rows x 131 columns]"
      ]
     },
     "execution_count": 18,
     "metadata": {},
     "output_type": "execute_result"
    }
   ],
   "source": [
    "dfSPY.reset_index(inplace=True)\n",
    "dfSPY.head()"
   ]
  },
  {
   "cell_type": "code",
   "execution_count": 20,
   "metadata": {},
   "outputs": [
    {
     "data": {
      "text/html": [
       "<div>\n",
       "<style scoped>\n",
       "    .dataframe tbody tr th:only-of-type {\n",
       "        vertical-align: middle;\n",
       "    }\n",
       "\n",
       "    .dataframe tbody tr th {\n",
       "        vertical-align: top;\n",
       "    }\n",
       "\n",
       "    .dataframe thead th {\n",
       "        text-align: right;\n",
       "    }\n",
       "</style>\n",
       "<table border=\"1\" class=\"dataframe\">\n",
       "  <thead>\n",
       "    <tr style=\"text-align: right;\">\n",
       "      <th></th>\n",
       "      <th>Date</th>\n",
       "      <th>Close</th>\n",
       "      <th>High</th>\n",
       "      <th>Low</th>\n",
       "      <th>Open</th>\n",
       "      <th>Volume</th>\n",
       "    </tr>\n",
       "  </thead>\n",
       "  <tbody>\n",
       "    <tr>\n",
       "      <th>0</th>\n",
       "      <td>2011-02-15</td>\n",
       "      <td>133.009995</td>\n",
       "      <td>133.220001</td>\n",
       "      <td>132.320007</td>\n",
       "      <td>133.020004</td>\n",
       "      <td>119575400</td>\n",
       "    </tr>\n",
       "    <tr>\n",
       "      <th>1</th>\n",
       "      <td>2011-02-16</td>\n",
       "      <td>133.850006</td>\n",
       "      <td>134.009995</td>\n",
       "      <td>133.190002</td>\n",
       "      <td>133.460007</td>\n",
       "      <td>130183500</td>\n",
       "    </tr>\n",
       "    <tr>\n",
       "      <th>2</th>\n",
       "      <td>2011-02-17</td>\n",
       "      <td>134.250000</td>\n",
       "      <td>134.429993</td>\n",
       "      <td>133.339996</td>\n",
       "      <td>133.460007</td>\n",
       "      <td>109810500</td>\n",
       "    </tr>\n",
       "    <tr>\n",
       "      <th>3</th>\n",
       "      <td>2011-02-18</td>\n",
       "      <td>134.529999</td>\n",
       "      <td>134.690002</td>\n",
       "      <td>134.059998</td>\n",
       "      <td>134.369995</td>\n",
       "      <td>130002400</td>\n",
       "    </tr>\n",
       "    <tr>\n",
       "      <th>4</th>\n",
       "      <td>2011-02-22</td>\n",
       "      <td>131.830002</td>\n",
       "      <td>134.559998</td>\n",
       "      <td>131.470001</td>\n",
       "      <td>133.119995</td>\n",
       "      <td>233116400</td>\n",
       "    </tr>\n",
       "    <tr>\n",
       "      <th>...</th>\n",
       "      <td>...</td>\n",
       "      <td>...</td>\n",
       "      <td>...</td>\n",
       "      <td>...</td>\n",
       "      <td>...</td>\n",
       "      <td>...</td>\n",
       "    </tr>\n",
       "    <tr>\n",
       "      <th>3465</th>\n",
       "      <td>2024-11-21</td>\n",
       "      <td>593.669983</td>\n",
       "      <td>595.119995</td>\n",
       "      <td>587.450012</td>\n",
       "      <td>593.400024</td>\n",
       "      <td>46750300</td>\n",
       "    </tr>\n",
       "    <tr>\n",
       "      <th>3466</th>\n",
       "      <td>2024-11-22</td>\n",
       "      <td>595.510010</td>\n",
       "      <td>596.150024</td>\n",
       "      <td>593.150024</td>\n",
       "      <td>593.659973</td>\n",
       "      <td>38226400</td>\n",
       "    </tr>\n",
       "    <tr>\n",
       "      <th>3467</th>\n",
       "      <td>2024-11-25</td>\n",
       "      <td>597.530029</td>\n",
       "      <td>600.859985</td>\n",
       "      <td>595.200012</td>\n",
       "      <td>599.520020</td>\n",
       "      <td>42441400</td>\n",
       "    </tr>\n",
       "    <tr>\n",
       "      <th>3468</th>\n",
       "      <td>2024-11-26</td>\n",
       "      <td>600.650024</td>\n",
       "      <td>601.330017</td>\n",
       "      <td>598.070007</td>\n",
       "      <td>598.799988</td>\n",
       "      <td>45621300</td>\n",
       "    </tr>\n",
       "    <tr>\n",
       "      <th>3469</th>\n",
       "      <td>2024-11-27</td>\n",
       "      <td>598.830017</td>\n",
       "      <td>600.849976</td>\n",
       "      <td>597.280029</td>\n",
       "      <td>600.460022</td>\n",
       "      <td>34000200</td>\n",
       "    </tr>\n",
       "  </tbody>\n",
       "</table>\n",
       "<p>3470 rows × 6 columns</p>\n",
       "</div>"
      ],
      "text/plain": [
       "            Date       Close        High         Low        Open     Volume\n",
       "0     2011-02-15  133.009995  133.220001  132.320007  133.020004  119575400\n",
       "1     2011-02-16  133.850006  134.009995  133.190002  133.460007  130183500\n",
       "2     2011-02-17  134.250000  134.429993  133.339996  133.460007  109810500\n",
       "3     2011-02-18  134.529999  134.690002  134.059998  134.369995  130002400\n",
       "4     2011-02-22  131.830002  134.559998  131.470001  133.119995  233116400\n",
       "...          ...         ...         ...         ...         ...        ...\n",
       "3465  2024-11-21  593.669983  595.119995  587.450012  593.400024   46750300\n",
       "3466  2024-11-22  595.510010  596.150024  593.150024  593.659973   38226400\n",
       "3467  2024-11-25  597.530029  600.859985  595.200012  599.520020   42441400\n",
       "3468  2024-11-26  600.650024  601.330017  598.070007  598.799988   45621300\n",
       "3469  2024-11-27  598.830017  600.849976  597.280029  600.460022   34000200\n",
       "\n",
       "[3470 rows x 6 columns]"
      ]
     },
     "execution_count": 20,
     "metadata": {},
     "output_type": "execute_result"
    }
   ],
   "source": [
    "dfSPY = dfSPY[['Date', 'Close', 'High', 'Low', 'Open', 'Volume']]\n",
    "dfSPY"
   ]
  },
  {
   "cell_type": "code",
   "execution_count": 21,
   "metadata": {},
   "outputs": [],
   "source": [
    "def isEngulfing(l, df):\n",
    "    backcandles=3 #maximum number of candles to look back for an engulfing pattern\n",
    "    engulfdiff=0.01\n",
    "    wicklimit=0.02\n",
    "    if l<=backcandles:\n",
    "        return 0\n",
    "    \n",
    "    maxopen=0\n",
    "    minclose=1e10\n",
    "    upopen=0\n",
    "    upclose=0\n",
    "      \n",
    "    if (df.Open[l]>df.Close[l] \n",
    "        and df.Open[l-1]<df.Close[l-1] \n",
    "        and df.Open[l]-df.Close[l-1]>engulfdiff \n",
    "        and df.High[l]-df.Open[l]<wicklimit):\n",
    "        maxopen = df.Open[l]\n",
    "        minclose = df.Close[l]\n",
    "        for i in range(1,backcandles):\n",
    "            if df.Open[l-i]<df.Close[l-i]:\n",
    "                upopen = df.Open[l-i]\n",
    "                upclose = df.Close[l-i]\n",
    "                if maxopen>upclose and minclose<upopen:\n",
    "                    return 1\n",
    "                else:\n",
    "                    break\n",
    "            else:\n",
    "                maxopen = max(maxopen,df.Open[l-i])\n",
    "                minclose = min(minclose, df.Close[l-i])\n",
    "                continue\n",
    "    \n",
    "    maxclose=0\n",
    "    minopen=1e10\n",
    "    dopen=0\n",
    "    dclose=0   \n",
    "    if (df.Open[l]<df.Close[l] \n",
    "        and df.Open[l-1]>df.Close[l-1] \n",
    "        and df.Close[l-1]-df.Open[l]>engulfdiff\n",
    "        and df.Open[l]-df.Low[l]<wicklimit):\n",
    "        maxclose = df.Close[l]\n",
    "        minopen = df.Open[l]\n",
    "        for i in range(1,backcandles):\n",
    "            if df.Open[l-i]>df.Close[l-i]:\n",
    "                dopen = df.Open[l-i]\n",
    "                dclose = df.Close[l-i]\n",
    "                if minopen<dclose and maxclose>dopen:\n",
    "                    return 2\n",
    "                else:\n",
    "                    break\n",
    "            else:\n",
    "                maxclose = max(maxclose,df.Close[l-i])\n",
    "                minopen = min(minopen, df.Open[l-i])\n",
    "                continue\n",
    "    return 0\n",
    "\n",
    "df=dfSPY[dfSPY.High!=dfSPY.Low].copy()\n",
    "df.reset_index(inplace=True)\n",
    "signal = [0]*len(df)\n",
    "for row in range(0,len(df)):\n",
    "    signal[row] = isEngulfing(row,df)\n",
    "\n",
    "df[\"signal\"]=signal"
   ]
  },
  {
   "cell_type": "code",
   "execution_count": 22,
   "metadata": {},
   "outputs": [],
   "source": [
    "import numpy as np\n",
    "def pointpos(x):\n",
    "    if x['signal']==1:\n",
    "        return x['High']+0.05\n",
    "    elif x['signal']==2:\n",
    "        return x['Low']-0.05\n",
    "    else:\n",
    "        return np.nan\n",
    "\n",
    "df['pointpos'] = df.apply(lambda row: pointpos(row), axis=1)"
   ]
  },
  {
   "cell_type": "code",
   "execution_count": 23,
   "metadata": {},
   "outputs": [
    {
     "data": {
      "application/vnd.plotly.v1+json": {
       "config": {
        "plotlyServerURL": "https://plot.ly"
       },
       "data": [
        {
         "close": [],
         "high": [],
         "low": [],
         "open": [],
         "type": "candlestick",
         "x": []
        },
        {
         "marker": {
          "color": "MediumPurple",
          "size": 6
         },
         "mode": "markers",
         "name": "Signal",
         "type": "scatter",
         "x": [],
         "y": []
        }
       ],
       "layout": {
        "template": {
         "data": {
          "bar": [
           {
            "error_x": {
             "color": "#2a3f5f"
            },
            "error_y": {
             "color": "#2a3f5f"
            },
            "marker": {
             "line": {
              "color": "#E5ECF6",
              "width": 0.5
             },
             "pattern": {
              "fillmode": "overlay",
              "size": 10,
              "solidity": 0.2
             }
            },
            "type": "bar"
           }
          ],
          "barpolar": [
           {
            "marker": {
             "line": {
              "color": "#E5ECF6",
              "width": 0.5
             },
             "pattern": {
              "fillmode": "overlay",
              "size": 10,
              "solidity": 0.2
             }
            },
            "type": "barpolar"
           }
          ],
          "carpet": [
           {
            "aaxis": {
             "endlinecolor": "#2a3f5f",
             "gridcolor": "white",
             "linecolor": "white",
             "minorgridcolor": "white",
             "startlinecolor": "#2a3f5f"
            },
            "baxis": {
             "endlinecolor": "#2a3f5f",
             "gridcolor": "white",
             "linecolor": "white",
             "minorgridcolor": "white",
             "startlinecolor": "#2a3f5f"
            },
            "type": "carpet"
           }
          ],
          "choropleth": [
           {
            "colorbar": {
             "outlinewidth": 0,
             "ticks": ""
            },
            "type": "choropleth"
           }
          ],
          "contour": [
           {
            "colorbar": {
             "outlinewidth": 0,
             "ticks": ""
            },
            "colorscale": [
             [
              0,
              "#0d0887"
             ],
             [
              0.1111111111111111,
              "#46039f"
             ],
             [
              0.2222222222222222,
              "#7201a8"
             ],
             [
              0.3333333333333333,
              "#9c179e"
             ],
             [
              0.4444444444444444,
              "#bd3786"
             ],
             [
              0.5555555555555556,
              "#d8576b"
             ],
             [
              0.6666666666666666,
              "#ed7953"
             ],
             [
              0.7777777777777778,
              "#fb9f3a"
             ],
             [
              0.8888888888888888,
              "#fdca26"
             ],
             [
              1,
              "#f0f921"
             ]
            ],
            "type": "contour"
           }
          ],
          "contourcarpet": [
           {
            "colorbar": {
             "outlinewidth": 0,
             "ticks": ""
            },
            "type": "contourcarpet"
           }
          ],
          "heatmap": [
           {
            "colorbar": {
             "outlinewidth": 0,
             "ticks": ""
            },
            "colorscale": [
             [
              0,
              "#0d0887"
             ],
             [
              0.1111111111111111,
              "#46039f"
             ],
             [
              0.2222222222222222,
              "#7201a8"
             ],
             [
              0.3333333333333333,
              "#9c179e"
             ],
             [
              0.4444444444444444,
              "#bd3786"
             ],
             [
              0.5555555555555556,
              "#d8576b"
             ],
             [
              0.6666666666666666,
              "#ed7953"
             ],
             [
              0.7777777777777778,
              "#fb9f3a"
             ],
             [
              0.8888888888888888,
              "#fdca26"
             ],
             [
              1,
              "#f0f921"
             ]
            ],
            "type": "heatmap"
           }
          ],
          "heatmapgl": [
           {
            "colorbar": {
             "outlinewidth": 0,
             "ticks": ""
            },
            "colorscale": [
             [
              0,
              "#0d0887"
             ],
             [
              0.1111111111111111,
              "#46039f"
             ],
             [
              0.2222222222222222,
              "#7201a8"
             ],
             [
              0.3333333333333333,
              "#9c179e"
             ],
             [
              0.4444444444444444,
              "#bd3786"
             ],
             [
              0.5555555555555556,
              "#d8576b"
             ],
             [
              0.6666666666666666,
              "#ed7953"
             ],
             [
              0.7777777777777778,
              "#fb9f3a"
             ],
             [
              0.8888888888888888,
              "#fdca26"
             ],
             [
              1,
              "#f0f921"
             ]
            ],
            "type": "heatmapgl"
           }
          ],
          "histogram": [
           {
            "marker": {
             "pattern": {
              "fillmode": "overlay",
              "size": 10,
              "solidity": 0.2
             }
            },
            "type": "histogram"
           }
          ],
          "histogram2d": [
           {
            "colorbar": {
             "outlinewidth": 0,
             "ticks": ""
            },
            "colorscale": [
             [
              0,
              "#0d0887"
             ],
             [
              0.1111111111111111,
              "#46039f"
             ],
             [
              0.2222222222222222,
              "#7201a8"
             ],
             [
              0.3333333333333333,
              "#9c179e"
             ],
             [
              0.4444444444444444,
              "#bd3786"
             ],
             [
              0.5555555555555556,
              "#d8576b"
             ],
             [
              0.6666666666666666,
              "#ed7953"
             ],
             [
              0.7777777777777778,
              "#fb9f3a"
             ],
             [
              0.8888888888888888,
              "#fdca26"
             ],
             [
              1,
              "#f0f921"
             ]
            ],
            "type": "histogram2d"
           }
          ],
          "histogram2dcontour": [
           {
            "colorbar": {
             "outlinewidth": 0,
             "ticks": ""
            },
            "colorscale": [
             [
              0,
              "#0d0887"
             ],
             [
              0.1111111111111111,
              "#46039f"
             ],
             [
              0.2222222222222222,
              "#7201a8"
             ],
             [
              0.3333333333333333,
              "#9c179e"
             ],
             [
              0.4444444444444444,
              "#bd3786"
             ],
             [
              0.5555555555555556,
              "#d8576b"
             ],
             [
              0.6666666666666666,
              "#ed7953"
             ],
             [
              0.7777777777777778,
              "#fb9f3a"
             ],
             [
              0.8888888888888888,
              "#fdca26"
             ],
             [
              1,
              "#f0f921"
             ]
            ],
            "type": "histogram2dcontour"
           }
          ],
          "mesh3d": [
           {
            "colorbar": {
             "outlinewidth": 0,
             "ticks": ""
            },
            "type": "mesh3d"
           }
          ],
          "parcoords": [
           {
            "line": {
             "colorbar": {
              "outlinewidth": 0,
              "ticks": ""
             }
            },
            "type": "parcoords"
           }
          ],
          "pie": [
           {
            "automargin": true,
            "type": "pie"
           }
          ],
          "scatter": [
           {
            "fillpattern": {
             "fillmode": "overlay",
             "size": 10,
             "solidity": 0.2
            },
            "type": "scatter"
           }
          ],
          "scatter3d": [
           {
            "line": {
             "colorbar": {
              "outlinewidth": 0,
              "ticks": ""
             }
            },
            "marker": {
             "colorbar": {
              "outlinewidth": 0,
              "ticks": ""
             }
            },
            "type": "scatter3d"
           }
          ],
          "scattercarpet": [
           {
            "marker": {
             "colorbar": {
              "outlinewidth": 0,
              "ticks": ""
             }
            },
            "type": "scattercarpet"
           }
          ],
          "scattergeo": [
           {
            "marker": {
             "colorbar": {
              "outlinewidth": 0,
              "ticks": ""
             }
            },
            "type": "scattergeo"
           }
          ],
          "scattergl": [
           {
            "marker": {
             "colorbar": {
              "outlinewidth": 0,
              "ticks": ""
             }
            },
            "type": "scattergl"
           }
          ],
          "scattermapbox": [
           {
            "marker": {
             "colorbar": {
              "outlinewidth": 0,
              "ticks": ""
             }
            },
            "type": "scattermapbox"
           }
          ],
          "scatterpolar": [
           {
            "marker": {
             "colorbar": {
              "outlinewidth": 0,
              "ticks": ""
             }
            },
            "type": "scatterpolar"
           }
          ],
          "scatterpolargl": [
           {
            "marker": {
             "colorbar": {
              "outlinewidth": 0,
              "ticks": ""
             }
            },
            "type": "scatterpolargl"
           }
          ],
          "scatterternary": [
           {
            "marker": {
             "colorbar": {
              "outlinewidth": 0,
              "ticks": ""
             }
            },
            "type": "scatterternary"
           }
          ],
          "surface": [
           {
            "colorbar": {
             "outlinewidth": 0,
             "ticks": ""
            },
            "colorscale": [
             [
              0,
              "#0d0887"
             ],
             [
              0.1111111111111111,
              "#46039f"
             ],
             [
              0.2222222222222222,
              "#7201a8"
             ],
             [
              0.3333333333333333,
              "#9c179e"
             ],
             [
              0.4444444444444444,
              "#bd3786"
             ],
             [
              0.5555555555555556,
              "#d8576b"
             ],
             [
              0.6666666666666666,
              "#ed7953"
             ],
             [
              0.7777777777777778,
              "#fb9f3a"
             ],
             [
              0.8888888888888888,
              "#fdca26"
             ],
             [
              1,
              "#f0f921"
             ]
            ],
            "type": "surface"
           }
          ],
          "table": [
           {
            "cells": {
             "fill": {
              "color": "#EBF0F8"
             },
             "line": {
              "color": "white"
             }
            },
            "header": {
             "fill": {
              "color": "#C8D4E3"
             },
             "line": {
              "color": "white"
             }
            },
            "type": "table"
           }
          ]
         },
         "layout": {
          "annotationdefaults": {
           "arrowcolor": "#2a3f5f",
           "arrowhead": 0,
           "arrowwidth": 1
          },
          "autotypenumbers": "strict",
          "coloraxis": {
           "colorbar": {
            "outlinewidth": 0,
            "ticks": ""
           }
          },
          "colorscale": {
           "diverging": [
            [
             0,
             "#8e0152"
            ],
            [
             0.1,
             "#c51b7d"
            ],
            [
             0.2,
             "#de77ae"
            ],
            [
             0.3,
             "#f1b6da"
            ],
            [
             0.4,
             "#fde0ef"
            ],
            [
             0.5,
             "#f7f7f7"
            ],
            [
             0.6,
             "#e6f5d0"
            ],
            [
             0.7,
             "#b8e186"
            ],
            [
             0.8,
             "#7fbc41"
            ],
            [
             0.9,
             "#4d9221"
            ],
            [
             1,
             "#276419"
            ]
           ],
           "sequential": [
            [
             0,
             "#0d0887"
            ],
            [
             0.1111111111111111,
             "#46039f"
            ],
            [
             0.2222222222222222,
             "#7201a8"
            ],
            [
             0.3333333333333333,
             "#9c179e"
            ],
            [
             0.4444444444444444,
             "#bd3786"
            ],
            [
             0.5555555555555556,
             "#d8576b"
            ],
            [
             0.6666666666666666,
             "#ed7953"
            ],
            [
             0.7777777777777778,
             "#fb9f3a"
            ],
            [
             0.8888888888888888,
             "#fdca26"
            ],
            [
             1,
             "#f0f921"
            ]
           ],
           "sequentialminus": [
            [
             0,
             "#0d0887"
            ],
            [
             0.1111111111111111,
             "#46039f"
            ],
            [
             0.2222222222222222,
             "#7201a8"
            ],
            [
             0.3333333333333333,
             "#9c179e"
            ],
            [
             0.4444444444444444,
             "#bd3786"
            ],
            [
             0.5555555555555556,
             "#d8576b"
            ],
            [
             0.6666666666666666,
             "#ed7953"
            ],
            [
             0.7777777777777778,
             "#fb9f3a"
            ],
            [
             0.8888888888888888,
             "#fdca26"
            ],
            [
             1,
             "#f0f921"
            ]
           ]
          },
          "colorway": [
           "#636efa",
           "#EF553B",
           "#00cc96",
           "#ab63fa",
           "#FFA15A",
           "#19d3f3",
           "#FF6692",
           "#B6E880",
           "#FF97FF",
           "#FECB52"
          ],
          "font": {
           "color": "#2a3f5f"
          },
          "geo": {
           "bgcolor": "white",
           "lakecolor": "white",
           "landcolor": "#E5ECF6",
           "showlakes": true,
           "showland": true,
           "subunitcolor": "white"
          },
          "hoverlabel": {
           "align": "left"
          },
          "hovermode": "closest",
          "mapbox": {
           "style": "light"
          },
          "paper_bgcolor": "white",
          "plot_bgcolor": "#E5ECF6",
          "polar": {
           "angularaxis": {
            "gridcolor": "white",
            "linecolor": "white",
            "ticks": ""
           },
           "bgcolor": "#E5ECF6",
           "radialaxis": {
            "gridcolor": "white",
            "linecolor": "white",
            "ticks": ""
           }
          },
          "scene": {
           "xaxis": {
            "backgroundcolor": "#E5ECF6",
            "gridcolor": "white",
            "gridwidth": 2,
            "linecolor": "white",
            "showbackground": true,
            "ticks": "",
            "zerolinecolor": "white"
           },
           "yaxis": {
            "backgroundcolor": "#E5ECF6",
            "gridcolor": "white",
            "gridwidth": 2,
            "linecolor": "white",
            "showbackground": true,
            "ticks": "",
            "zerolinecolor": "white"
           },
           "zaxis": {
            "backgroundcolor": "#E5ECF6",
            "gridcolor": "white",
            "gridwidth": 2,
            "linecolor": "white",
            "showbackground": true,
            "ticks": "",
            "zerolinecolor": "white"
           }
          },
          "shapedefaults": {
           "line": {
            "color": "#2a3f5f"
           }
          },
          "ternary": {
           "aaxis": {
            "gridcolor": "white",
            "linecolor": "white",
            "ticks": ""
           },
           "baxis": {
            "gridcolor": "white",
            "linecolor": "white",
            "ticks": ""
           },
           "bgcolor": "#E5ECF6",
           "caxis": {
            "gridcolor": "white",
            "linecolor": "white",
            "ticks": ""
           }
          },
          "title": {
           "x": 0.05
          },
          "xaxis": {
           "automargin": true,
           "gridcolor": "white",
           "linecolor": "white",
           "ticks": "",
           "title": {
            "standoff": 15
           },
           "zerolinecolor": "white",
           "zerolinewidth": 2
          },
          "yaxis": {
           "automargin": true,
           "gridcolor": "white",
           "linecolor": "white",
           "ticks": "",
           "title": {
            "standoff": 15
           },
           "zerolinecolor": "white",
           "zerolinewidth": 2
          }
         }
        }
       }
      }
     },
     "metadata": {},
     "output_type": "display_data"
    }
   ],
   "source": [
    "import plotly.graph_objects as go\n",
    "from plotly.subplots import make_subplots\n",
    "from datetime import datetime\n",
    "\n",
    "dfpl = df[6200:6300]\n",
    "\n",
    "fig = go.Figure(data=[go.Candlestick(x=dfpl.index,\n",
    "                open=dfpl['Open'],\n",
    "                high=dfpl['High'],\n",
    "                low=dfpl['Low'],\n",
    "                close=dfpl['Close'])])\n",
    "\n",
    "fig.add_scatter(x=dfpl.index, y=dfpl['pointpos'], mode=\"markers\",\n",
    "                marker=dict(size=6, color=\"MediumPurple\"),\n",
    "                name=\"Signal\")\n",
    "fig.show()"
   ]
  },
  {
   "cell_type": "code",
   "execution_count": 24,
   "metadata": {},
   "outputs": [],
   "source": [
    "dfpl = df[:].copy()\n",
    "#dfpl.reset_index(inplace=True)\n",
    "import pandas_ta as ta\n",
    "dfpl['ATR']=ta.atr(dfpl.High, dfpl.Low, dfpl.Close, length=10)\n",
    "#help(ta.atr)\n",
    "def SIGNAL():\n",
    "    return dfpl.signal"
   ]
  },
  {
   "cell_type": "code",
   "execution_count": 25,
   "metadata": {},
   "outputs": [
    {
     "name": "stderr",
     "output_type": "stream",
     "text": [
      "c:\\Users\\DCG13\\Documents\\Alpaca\\trading1_env\\lib\\site-packages\\tqdm\\auto.py:21: TqdmWarning:\n",
      "\n",
      "IProgress not found. Please update jupyter and ipywidgets. See https://ipywidgets.readthedocs.io/en/stable/user_install.html\n",
      "\n",
      "C:\\Users\\DCG13\\AppData\\Local\\Temp\\ipykernel_24020\\1926330075.py:26: UserWarning:\n",
      "\n",
      "Data index is not datetime. Assuming simple periods, but `pd.DateTimeIndex` is advised.\n",
      "\n"
     ]
    },
    {
     "data": {
      "text/plain": [
       "Start                                     0.0\n",
       "End                                    3469.0\n",
       "Duration                               3469.0\n",
       "Exposure Time [%]                    1.354467\n",
       "Equity Final [$]                    557.05287\n",
       "Equity Peak [$]                        1000.0\n",
       "Return [%]                         -44.294713\n",
       "Buy & Hold Return [%]              350.214301\n",
       "Return (Ann.) [%]                         0.0\n",
       "Volatility (Ann.) [%]                     NaN\n",
       "Sharpe Ratio                              NaN\n",
       "Sortino Ratio                             NaN\n",
       "Calmar Ratio                              0.0\n",
       "Max. Drawdown [%]                  -52.119166\n",
       "Avg. Drawdown [%]                  -52.119166\n",
       "Max. Drawdown Duration                 3384.0\n",
       "Avg. Drawdown Duration                 3384.0\n",
       "# Trades                                  4.0\n",
       "Win Rate [%]                             25.0\n",
       "Best Trade [%]                       3.371783\n",
       "Worst Trade [%]                     -3.313639\n",
       "Avg. Trade [%]                      -1.064572\n",
       "Max. Trade Duration                      24.0\n",
       "Avg. Trade Duration                     10.75\n",
       "Profit Factor                        0.450192\n",
       "Expectancy [%]                      -1.029467\n",
       "SQN                                  -1.11732\n",
       "_strategy                             MyStrat\n",
       "_equity_curve                       Equity...\n",
       "_trades                      Size  EntryBa...\n",
       "dtype: object"
      ]
     },
     "execution_count": 25,
     "metadata": {},
     "output_type": "execute_result"
    }
   ],
   "source": [
    "from backtesting import Strategy\n",
    "from backtesting import Backtest\n",
    "\n",
    "class MyStrat(Strategy):\n",
    "    initsize = 0.99\n",
    "    mysize = initsize\n",
    "    def init(self):\n",
    "        super().init()\n",
    "        self.signal1 = self.I(SIGNAL)\n",
    "\n",
    "    def next(self):\n",
    "        super().next()\n",
    "        slatr = 2*self.data.ATR[-1] #max(3*(self.data.High[-1]-self.data.Low[-1]), self.data.ATR[-1])\n",
    "        TPSLRatio = 1.5\n",
    "\n",
    "        if self.signal1==2 and len(self.trades)==0:#!!!inverted signals\n",
    "            sl1 = self.data.Close[-1] - slatr\n",
    "            tp1 = self.data.Close[-1] + slatr*TPSLRatio\n",
    "            self.buy(sl=sl1, tp=tp1, size=self.mysize)\n",
    "        \n",
    "        elif self.signal1==1 and len(self.trades)==0:         \n",
    "            sl1 = self.data.Close[-1] + slatr\n",
    "            tp1 = self.data.Close[-1] - slatr*TPSLRatio\n",
    "            self.sell(sl=sl1, tp=tp1, size=self.mysize)\n",
    "\n",
    "bt = Backtest(dfpl, MyStrat, cash=1000, margin=1/10, commission=.00)\n",
    "stat = bt.run()\n",
    "stat"
   ]
  },
  {
   "cell_type": "code",
   "execution_count": 26,
   "metadata": {},
   "outputs": [
    {
     "name": "stderr",
     "output_type": "stream",
     "text": [
      "C:\\Users\\DCG13\\AppData\\Local\\Temp\\ipykernel_24020\\3368437234.py:27: UserWarning:\n",
      "\n",
      "Data index is not datetime. Assuming simple periods, but `pd.DateTimeIndex` is advised.\n",
      "\n"
     ]
    },
    {
     "data": {
      "text/plain": [
       "Start                                     0.0\n",
       "End                                    3469.0\n",
       "Duration                               3469.0\n",
       "Exposure Time [%]                    2.190202\n",
       "Equity Final [$]                   316.760368\n",
       "Equity Peak [$]                        1000.0\n",
       "Return [%]                         -68.323963\n",
       "Buy & Hold Return [%]              350.214301\n",
       "Return (Ann.) [%]                         0.0\n",
       "Volatility (Ann.) [%]                     NaN\n",
       "Sharpe Ratio                              NaN\n",
       "Sortino Ratio                             NaN\n",
       "Calmar Ratio                              0.0\n",
       "Max. Drawdown [%]                  -68.323963\n",
       "Avg. Drawdown [%]                  -68.323963\n",
       "Max. Drawdown Duration                 3384.0\n",
       "Avg. Drawdown Duration                 3384.0\n",
       "# Trades                                  4.0\n",
       "Win Rate [%]                             25.0\n",
       "Best Trade [%]                       0.568808\n",
       "Worst Trade [%]                     -4.098874\n",
       "Avg. Trade [%]                      -2.336541\n",
       "Max. Trade Duration                      36.0\n",
       "Avg. Trade Duration                      18.0\n",
       "Profit Factor                        0.057786\n",
       "Expectancy [%]                      -2.318638\n",
       "SQN                                 -1.830386\n",
       "_strategy                      MyCandlesStrat\n",
       "_equity_curve                        Equit...\n",
       "_trades                      Size  EntryBa...\n",
       "dtype: object"
      ]
     },
     "execution_count": 26,
     "metadata": {},
     "output_type": "execute_result"
    }
   ],
   "source": [
    "from backtesting import Strategy, Backtest\n",
    "import numpy as np\n",
    "\n",
    "class MyCandlesStrat(Strategy):\n",
    "    sltr=5\n",
    "    def init(self):\n",
    "        super().init()\n",
    "        self.signal1 = self.I(SIGNAL)\n",
    "\n",
    "    def next(self):\n",
    "        super().next()\n",
    "        sltr = self.sltr\n",
    "        for trade in self.trades: \n",
    "            if trade.is_long: \n",
    "                trade.sl = max(trade.sl or -np.inf, self.data.Close[-1] - sltr)\n",
    "            else:\n",
    "                trade.sl = min(trade.sl or np.inf, self.data.Close[-1] + sltr) \n",
    "\n",
    "        if self.signal1==2 and len(self.trades)==0: # trades number change!\n",
    "            sl1 = self.data.Close[-1] - sltr\n",
    "            self.buy(sl=sl1)\n",
    "        elif self.signal1==1 and len(self.trades)==0: # trades number change!\n",
    "            sl1 = self.data.Close[-1] + sltr\n",
    "            self.sell(sl=sl1)\n",
    "\n",
    "\n",
    "bt = Backtest(dfpl, MyCandlesStrat, cash=1000, margin=1/10, commission=.00)\n",
    "stat = bt.run()\n",
    "stat"
   ]
  },
  {
   "cell_type": "code",
   "execution_count": null,
   "metadata": {},
   "outputs": [],
   "source": []
  }
 ],
 "metadata": {
  "kernelspec": {
   "display_name": "trading1_env",
   "language": "python",
   "name": "python3"
  },
  "language_info": {
   "codemirror_mode": {
    "name": "ipython",
    "version": 3
   },
   "file_extension": ".py",
   "mimetype": "text/x-python",
   "name": "python",
   "nbconvert_exporter": "python",
   "pygments_lexer": "ipython3",
   "version": "3.10.9"
  }
 },
 "nbformat": 4,
 "nbformat_minor": 2
}
