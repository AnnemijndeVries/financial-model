{
 "cells": [
  {
   "cell_type": "code",
   "execution_count": 2,
   "metadata": {},
   "outputs": [
    {
     "name": "stdout",
     "output_type": "stream",
     "text": [
      "Looking in indexes: https://pypi.org/simple, https://europe-west4-python.pkg.dev/dcg-development/dcg-packages/simple/\n",
      "Requirement already satisfied: dcg in c:\\users\\dcg13\\documents\\alpaca\\trading1_env\\lib\\site-packages (0.0.1)\n",
      "Requirement already satisfied: matplotlib~=3.9 in c:\\users\\dcg13\\documents\\alpaca\\trading1_env\\lib\\site-packages (from dcg) (3.9.2)\n",
      "Requirement already satisfied: pandas<=3.0,>=1.0 in c:\\users\\dcg13\\documents\\alpaca\\trading1_env\\lib\\site-packages (from dcg) (2.2.3)\n",
      "Requirement already satisfied: scipy~=1.14 in c:\\users\\dcg13\\documents\\alpaca\\trading1_env\\lib\\site-packages (from dcg) (1.14.1)\n",
      "Requirement already satisfied: contourpy>=1.0.1 in c:\\users\\dcg13\\documents\\alpaca\\trading1_env\\lib\\site-packages (from matplotlib~=3.9->dcg) (1.3.1)\n",
      "Requirement already satisfied: cycler>=0.10 in c:\\users\\dcg13\\documents\\alpaca\\trading1_env\\lib\\site-packages (from matplotlib~=3.9->dcg) (0.12.1)\n",
      "Requirement already satisfied: fonttools>=4.22.0 in c:\\users\\dcg13\\documents\\alpaca\\trading1_env\\lib\\site-packages (from matplotlib~=3.9->dcg) (4.55.0)\n",
      "Requirement already satisfied: kiwisolver>=1.3.1 in c:\\users\\dcg13\\documents\\alpaca\\trading1_env\\lib\\site-packages (from matplotlib~=3.9->dcg) (1.4.7)\n",
      "Requirement already satisfied: numpy>=1.23 in c:\\users\\dcg13\\documents\\alpaca\\trading1_env\\lib\\site-packages (from matplotlib~=3.9->dcg) (1.26.0)\n",
      "Requirement already satisfied: packaging>=20.0 in c:\\users\\dcg13\\documents\\alpaca\\trading1_env\\lib\\site-packages (from matplotlib~=3.9->dcg) (24.2)\n",
      "Requirement already satisfied: pillow>=8 in c:\\users\\dcg13\\documents\\alpaca\\trading1_env\\lib\\site-packages (from matplotlib~=3.9->dcg) (11.0.0)\n",
      "Requirement already satisfied: pyparsing>=2.3.1 in c:\\users\\dcg13\\documents\\alpaca\\trading1_env\\lib\\site-packages (from matplotlib~=3.9->dcg) (3.2.0)\n",
      "Requirement already satisfied: python-dateutil>=2.7 in c:\\users\\dcg13\\documents\\alpaca\\trading1_env\\lib\\site-packages (from matplotlib~=3.9->dcg) (2.9.0.post0)\n",
      "Requirement already satisfied: pytz>=2020.1 in c:\\users\\dcg13\\documents\\alpaca\\trading1_env\\lib\\site-packages (from pandas<=3.0,>=1.0->dcg) (2024.2)\n",
      "Requirement already satisfied: tzdata>=2022.7 in c:\\users\\dcg13\\documents\\alpaca\\trading1_env\\lib\\site-packages (from pandas<=3.0,>=1.0->dcg) (2024.2)\n",
      "Requirement already satisfied: six>=1.5 in c:\\users\\dcg13\\documents\\alpaca\\trading1_env\\lib\\site-packages (from python-dateutil>=2.7->matplotlib~=3.9->dcg) (1.16.0)\n"
     ]
    }
   ],
   "source": [
    "!pip install dcg --extra-index-url=https://europe-west4-python.pkg.dev/dcg-development/dcg-packages/simple/"
   ]
  },
  {
   "cell_type": "code",
   "execution_count": 3,
   "metadata": {},
   "outputs": [
    {
     "ename": "ModuleNotFoundError",
     "evalue": "No module named 'dcg'",
     "output_type": "error",
     "traceback": [
      "\u001b[1;31m---------------------------------------------------------------------------\u001b[0m",
      "\u001b[1;31mModuleNotFoundError\u001b[0m                       Traceback (most recent call last)",
      "Cell \u001b[1;32mIn[3], line 1\u001b[0m\n\u001b[1;32m----> 1\u001b[0m \u001b[38;5;28;01mfrom\u001b[39;00m \u001b[38;5;21;01mdcg\u001b[39;00m \u001b[38;5;28;01mimport\u001b[39;00m analysis\n",
      "\u001b[1;31mModuleNotFoundError\u001b[0m: No module named 'dcg'"
     ]
    }
   ],
   "source": [
    "from dcg import analysis"
   ]
  },
  {
   "cell_type": "code",
   "execution_count": null,
   "metadata": {},
   "outputs": [],
   "source": []
  }
 ],
 "metadata": {
  "kernelspec": {
   "display_name": "trading1_env",
   "language": "python",
   "name": "python3"
  },
  "language_info": {
   "codemirror_mode": {
    "name": "ipython",
    "version": 3
   },
   "file_extension": ".py",
   "mimetype": "text/x-python",
   "name": "python",
   "nbconvert_exporter": "python",
   "pygments_lexer": "ipython3",
   "version": "3.10.9"
  }
 },
 "nbformat": 4,
 "nbformat_minor": 2
}
